{
 "cells": [
  {
   "cell_type": "code",
   "execution_count": 1,
   "metadata": {},
   "outputs": [],
   "source": [
    "import json\n",
    "import xml_dict.xmltodict as xd ##xmltodict obtenido de https://github.com/martinblech/xmltodict\n",
    "from lxml import etree\n",
    "import os"
   ]
  },
  {
   "cell_type": "markdown",
   "metadata": {},
   "source": [
    "# Cargamos los archivos json para tenerlos en memoria"
   ]
  },
  {
   "cell_type": "code",
   "execution_count": 2,
   "metadata": {},
   "outputs": [],
   "source": [
    "jsBiblio = open('biblioteca.json','w',encoding='utf-8')\n",
    "biblio = open('biblioteca.xml','r')\n",
    "diccBiblio = xd.parse(biblio.read(),encoding='utf-8')\n",
    "diccBiblio = json.dumps(diccBiblio,indent = 4, ensure_ascii=False)\n",
    "jsBiblio.write(diccBiblio)\n",
    "jsBiblio.close()\n",
    "diccBiblio = json.loads(diccBiblio)\n",
    "\n",
    "\n",
    "jsPlaylists = open('playlists.json','w',encoding='utf-8')\n",
    "pl = open('playlists.xml','r')\n",
    "diccPlaylists = xd.parse(pl.read(),encoding='utf-8')\n",
    "diccPlaylists = json.dumps(diccPlaylists,indent = 4, ensure_ascii=False)\n",
    "jsPlaylists.write(diccPlaylists)\n",
    "jsPlaylists.close()\n",
    "diccPlaylists = json.loads(diccPlaylists)"
   ]
  },
  {
   "cell_type": "markdown",
   "metadata": {},
   "source": [
    "## definimos el programa principal"
   ]
  },
  {
   "cell_type": "code",
   "execution_count": 3,
   "metadata": {},
   "outputs": [],
   "source": [
    "def main():\n",
    "    switcher = {\n",
    "        1: listar,\n",
    "        2: contar,\n",
    "        3: filtrar,\n",
    "        4: buscar_relacionado,\n",
    "        5: validar_xml,\n",
    "        6: transformar,\n",
    "        7: actualizar,\n",
    "        8: aniadir_borrar_elem_xml,\n",
    "        9: salir\n",
    "    }\n",
    "    opcion = -1\n",
    "    while opcion != 9:\n",
    "        while opcion < 1 or opcion > 9:\n",
    "            print(\"\\nBienvenido al proyecto de Python de Diego y Alex\")\n",
    "            print(\"Elija una de las siguientes opciones:\")\n",
    "            print(\"1) Listar información\")\n",
    "            print(\"2) Contar información\")\n",
    "            print(\"3) Buscar o filtrar información\")\n",
    "            print(\"4) Buscar información relacionada\")\n",
    "            print(\"5) Comprobar la validez del fichero XML\")\n",
    "            print(\"6) Hacer una transformación con XSLT\")\n",
    "            print(\"7) Actualizar el contenido de algún elemento o atributo del fichero XML\")\n",
    "            print(\"8) Añadir un elemento nuevo al fichero XML\")\n",
    "            print(\"9) Salir\")\n",
    "            opcion = int(input(\"introduzca una opción  [1-9]: \"))\n",
    "        func = switcher.get(opcion)\n",
    "        func()\n",
    "        if opcion == 9:\n",
    "            break;\n",
    "        opcion = -1\n",
    "    "
   ]
  },
  {
   "cell_type": "markdown",
   "metadata": {},
   "source": [
    "## mostrar los albumes almacenados y los playlists "
   ]
  },
  {
   "cell_type": "code",
   "execution_count": 4,
   "metadata": {},
   "outputs": [],
   "source": [
    "def listar():\n",
    "    opt_xml = -1\n",
    "    while opt_xml < 1 or opt_xml > 2:\n",
    "        print(\"\\nElija la info a visualizar:\")\n",
    "        print(\"1) Biblioteca\")\n",
    "        print(\"2) Playlists\")\n",
    "        opt_xml = int(input(\"seleccione una opcion [1-2]: \"))\n",
    "           \n",
    "    if opt_xml == 1:\n",
    "        print('\\nBIBLIOTECA')\n",
    "        print('----------')\n",
    "        print('\\talbumes:')\n",
    "        print('\\t--------')\n",
    "        \n",
    "        for album in diccBiblio['biblioteca']['albumes']['album']:\n",
    "            for cancion in album['cancion']:\n",
    "                for c,v in cancion.items():\n",
    "                    print('\\t' + '\\t' + c + ':',end = '')\n",
    "                    print(v)\n",
    "                print('\\t'+ '\\t---------------------------------------\\n')\n",
    "        print('\\tartistas:')\n",
    "        print('\\t--------')\n",
    "        for artista in diccBiblio['biblioteca']['artistas']['artista']:\n",
    "            print('\\t' + '\\t',end='')\n",
    "            print(artista)\n",
    "    else:\n",
    "        print('PLAYLISTS')\n",
    "        print('---------')\n",
    "        for playlist in diccPlaylists['playlists']['playlist']:\n",
    "            for c,v in playlist.items():\n",
    "                if c == 'album' or c == 'cancion':\n",
    "                    print('\\t' + '\\t' + c + 'es:')\n",
    "                    for elem in v:\n",
    "                        print('\\t' + '\\t' + '\\t',end='')\n",
    "                        print(elem)\n",
    "                else:\n",
    "                    print('\\t' + '\\t' + c + ':', end='')\n",
    "                    print(v)\n",
    "            print('\\t' + '\\t---------------------------------------')"
   ]
  },
  {
   "cell_type": "markdown",
   "metadata": {},
   "source": [
    "## contar las canciones, albumes, artistas y playlists almacenados"
   ]
  },
  {
   "cell_type": "code",
   "execution_count": 5,
   "metadata": {},
   "outputs": [],
   "source": [
    "def contar():\n",
    "    canciones = 0\n",
    "    canciones_album = 0\n",
    "    n_album = 0\n",
    "    n_artistas = 0\n",
    "    print('\\nAlbumes y sus canciones:\\n')\n",
    "    for album in diccBiblio['biblioteca']['albumes']['album']:\n",
    "        n_album = n_album + 1\n",
    "        for cancion in album['cancion']:\n",
    "            canciones = canciones + 1\n",
    "            canciones_album = canciones_album + 1\n",
    "        print(album['titulo'].ljust(30),end='')\n",
    "        print(\"numero de canciones:\" + str(canciones_album))\n",
    "        canciones_album = 0\n",
    "        \n",
    "    print('\\nTOTAL:')\n",
    "    print('------')\n",
    "    print('canciones en la biblioteca:' + str(canciones))\n",
    "    print('numero de albumes en la biblioteca:' + str(n_album))\n",
    "\n",
    "    for artista in diccBiblio['biblioteca']['artistas']['artista']:\n",
    "        n_artistas = n_artistas + 1\n",
    "    print('numero de artistas:' + str(n_artistas))\n",
    "    \n",
    "    n_playlists  = 0\n",
    "    for playlist in diccPlaylists['playlists']['playlist']:\n",
    "        n_playlists = n_playlists + 1\n",
    "    print('numero de playlists:' + str(n_playlists))"
   ]
  },
  {
   "cell_type": "markdown",
   "metadata": {},
   "source": [
    "## permite realizar busquedas sencillas"
   ]
  },
  {
   "cell_type": "code",
   "execution_count": 6,
   "metadata": {},
   "outputs": [],
   "source": [
    "def filtrar():\n",
    "    print('\\nFILTRAR')\n",
    "    print('-------')\n",
    "    opcion = -1\n",
    "    while opcion > 4 or opcion < 1:\n",
    "        print('1) buscar cancion por nombre')\n",
    "        print('2) buscar album por año')\n",
    "        print('3) buscar artista por nombre')\n",
    "        print('4) buscar playlist por nombre')\n",
    "        opcion = int(input('seleccione una opcion[1-4]:'))\n",
    "        \n",
    "    switch_filtro = {\n",
    "        1: buscar_cancion_por_nombre,\n",
    "        2: buscar_album_por_año,\n",
    "        3: buscar_artista_por_nombre,\n",
    "        4: buscar_playlist_por_nombre\n",
    "    }\n",
    "        \n",
    "    funcion = switch_filtro.get(opcion)\n",
    "    funcion()"
   ]
  },
  {
   "cell_type": "markdown",
   "metadata": {},
   "source": [
    "## permite buscar canciones que contengan el nombre "
   ]
  },
  {
   "cell_type": "code",
   "execution_count": 7,
   "metadata": {},
   "outputs": [],
   "source": [
    "def buscar_cancion_por_nombre():\n",
    "    opcion = input('introduzca un nombre:')\n",
    "    print('\\nResultados:\\n')\n",
    "    flag_opcion = False\n",
    "    for album in diccBiblio['biblioteca']['albumes']['album']:\n",
    "        for cancion in album['cancion']:\n",
    "            if opcion.lower() in cancion['titulo'].lower():\n",
    "                flag_opcion=True\n",
    "                for c,v in cancion.items():\n",
    "                    print(c + ':',end='')\n",
    "                    print(v)\n",
    "                print('--------------------------')\n",
    "    if not flag_opcion:\n",
    "        print('No hay canciones con ese nombre')\n",
    "    "
   ]
  },
  {
   "cell_type": "markdown",
   "metadata": {},
   "source": [
    "## permite buscar albumes por año"
   ]
  },
  {
   "cell_type": "code",
   "execution_count": 8,
   "metadata": {},
   "outputs": [],
   "source": [
    "def buscar_album_por_año():\n",
    "    opcion = input('\\nintroduzca un año:')\n",
    "    print('\\nResultados:\\n')\n",
    "    flag_opcion = False\n",
    "    for album in diccBiblio['biblioteca']['albumes']['album']:\n",
    "        if album['@año'] == opcion:\n",
    "            print(album['titulo'])\n",
    "            flag_opcion = True\n",
    "    if not flag_opcion:\n",
    "        print('No hay albumes de ese año')"
   ]
  },
  {
   "cell_type": "markdown",
   "metadata": {},
   "source": [
    "## permite buscar artistas que contengan el nombre "
   ]
  },
  {
   "cell_type": "code",
   "execution_count": 9,
   "metadata": {},
   "outputs": [],
   "source": [
    "def buscar_artista_por_nombre():\n",
    "    opcion = input('introduzca un nombre:')\n",
    "    print('\\nResultados:\\n')\n",
    "    flag_opcion = False\n",
    "    for artista in diccBiblio['biblioteca']['artistas']['artista']:\n",
    "            if opcion.lower() in artista['nombre'].lower():\n",
    "                flag_opcion=True\n",
    "                print(artista['nombre'])\n",
    "    if not flag_opcion:\n",
    "        print('No hay artistas con ese opcion = -1nombre')"
   ]
  },
  {
   "cell_type": "markdown",
   "metadata": {},
   "source": [
    "## permite buscar playlists que contengan el nombre "
   ]
  },
  {
   "cell_type": "code",
   "execution_count": 10,
   "metadata": {},
   "outputs": [],
   "source": [
    "def buscar_playlist_por_nombre():\n",
    "    opcion = input('introduzca un nombre:')\n",
    "    print('\\nResultados:\\n')\n",
    "    flag_opcion = False\n",
    "    for playlist in diccPlaylists['playlists']['playlist']:\n",
    "        if opcion.lower() in playlist['@nombre'].lower():\n",
    "                flag_opcion=True\n",
    "                print(playlist['@nombre'])\n",
    "    if not flag_opcion:\n",
    "        print('No hay playlists con ese nombre')"
   ]
  },
  {
   "cell_type": "markdown",
   "metadata": {},
   "source": [
    "## permite realizar busquedas avanzadas "
   ]
  },
  {
   "cell_type": "code",
   "execution_count": 11,
   "metadata": {},
   "outputs": [],
   "source": [
    "def buscar_relacionado():\n",
    "    print('\\nBUSCAR INFO RELACIONADA')\n",
    "    print('-------')\n",
    "    opcion = -1\n",
    "    while opcion > 3 or opcion < 1:\n",
    "        print('1) buscar albumes de un artista')\n",
    "        print('2) buscar canciones de un album')\n",
    "        print('3) buscar playlists que contengan una cancion')\n",
    "        opcion = int(input('seleccione una opcion[1-3]:'))\n",
    "        \n",
    "    switch_filtro = {\n",
    "        1: buscar_albumes_de_un_artista,\n",
    "        2: buscar_canciones_de_un_album,\n",
    "        3: buscar_playlists_que_contengan_una_cancion\n",
    "    }\n",
    "        \n",
    "    funcion = switch_filtro.get(opcion)\n",
    "    funcion()\n",
    "        "
   ]
  },
  {
   "cell_type": "markdown",
   "metadata": {},
   "source": [
    "## permite buscar albumes de un artista especifico"
   ]
  },
  {
   "cell_type": "code",
   "execution_count": 12,
   "metadata": {},
   "outputs": [],
   "source": [
    "def buscar_albumes_de_un_artista():\n",
    "    opcion = input('introduzca un nombre: (nombre exacto)')\n",
    "    print('\\nResultados:\\n')\n",
    "    flag_opcion = False\n",
    "    id_artista = ''\n",
    "    for artista in diccBiblio['biblioteca']['artistas']['artista']:\n",
    "            if opcion.lower() == artista['nombre'].lower():\n",
    "                flag_opcion=True\n",
    "                id_artista = artista['@id']\n",
    "    if not flag_opcion:\n",
    "        print('No hay artistas con ese nombre')\n",
    "    flag_opcion = False\n",
    "    for album in diccBiblio['biblioteca']['albumes']['album']:\n",
    "        if album['@artista'] == id_artista:\n",
    "            print(album['titulo'])\n",
    "            flag_opcion = True\n",
    "    if not flag_opcion:\n",
    "        print('Este artista aún no tiene albumes guardados')"
   ]
  },
  {
   "cell_type": "markdown",
   "metadata": {},
   "source": [
    "## permite buscar canciones  de un album especifico"
   ]
  },
  {
   "cell_type": "code",
   "execution_count": 13,
   "metadata": {},
   "outputs": [],
   "source": [
    "def buscar_canciones_de_un_album():\n",
    "    opcion = input('introduzca un nimport os ombre:')\n",
    "    print('\\nResultados:\\n')\n",
    "    flag_opcion = False\n",
    "    for album in diccBiblio['biblioteca']['albumes']['album']:\n",
    "        if album['titulo'] == opcion:\n",
    "            for cancion in album['cancion']:\n",
    "                flag_opcion = True\n",
    "                for c,v in cancion.items():\n",
    "                    print(c + ':',end='')\n",
    "                    print(v)\n",
    "                print('--------------------------')\n",
    "    if not flag_opcion:\n",
    "        print('Album inexistente o vacío')"
   ]
  },
  {
   "cell_type": "markdown",
   "metadata": {},
   "source": [
    "## permite consultar las playlist que contengan una cancion especifica"
   ]
  },
  {
   "cell_type": "code",
   "execution_count": 14,
   "metadata": {},
   "outputs": [],
   "source": [
    "def buscar_playlists_que_contengan_una_cancion():\n",
    "    opcion = input('introduzca un nombre:')\n",
    "    print('\\nResultados:\\n')\n",
    "    flag_opcion = False\n",
    "    flag_playlist = False\n",
    "    id_cancion = ''\n",
    "    for album in diccBiblio['biblioteca']['albumes']['album']:\n",
    "        for cancion in album['cancion']:\n",
    "            if cancion['titulo'] == opcion:\n",
    "                flag_opcion = True\n",
    "                id_cancion = cancion['@id']      \n",
    "                \n",
    "    if not flag_opcion:\n",
    "        print('No hay canciones con ese nombre')\n",
    "        return\n",
    "    \n",
    "    for playlist in diccPlaylists['playlists']['playlist']:\n",
    "        try:\n",
    "            for cancion in playlist['cancion']:\n",
    "                    if id_cancion == cancion['@id']:\n",
    "                        flag_playlist = True\n",
    "                        print(playlist['@nombre'])\n",
    "        except KeyError:\n",
    "            continue\n",
    "    if not flag_playlist:\n",
    "        print('No hay playlists que contengan esa cancion')"
   ]
  },
  {
   "cell_type": "markdown",
   "metadata": {},
   "source": [
    "## dado un archivo xml, lo contrastamos contra el dtd dado"
   ]
  },
  {
   "cell_type": "code",
   "execution_count": 15,
   "metadata": {},
   "outputs": [],
   "source": [
    "def validar_xml():\n",
    "    flag = False\n",
    "    while(not flag):\n",
    "        nombre_xml = input('introduce el nombre del xml a validar: ')\n",
    "        flag=nombre_xml.lower().endswith('.xml')\n",
    "        if not flag:\n",
    "            print('nombre incorrecto')\n",
    "        elif not os.path.isfile('./' + nombre_xml):\n",
    "            print('el fichero xml no existe en el directorio actual')\n",
    "            flag = False\n",
    "        \n",
    "            \n",
    "    flag = False\n",
    "    while(not flag):\n",
    "        nombre_val = input('introduce el nombre del xsd/dtd con el que validar: ')\n",
    "        if not os.path.isfile('./' + nombre_val):\n",
    "                print('el fichero no existe en el directorio actual')\n",
    "        elif nombre_val.lower().endswith('.dtd'):\n",
    "            fdtd = open(nombre_val,'r')\n",
    "            dtd = etree.DTD(fdtd)\n",
    "            fxml = open(nombre_xml,'r')\n",
    "            arbol = etree.XML(fxml.read())\n",
    "            if dtd.validate(arbol):\n",
    "                print('fichero validado correctamente')\n",
    "            else:\n",
    "                print('error al validar el fichero')\n",
    "            flag = True\n",
    "            \n",
    "            \n",
    "        elif nombre_val.lower().endswith('.xsd'):\n",
    "            fxsd = open(nombre_val,'r')\n",
    "            xmlschema_doc = etree.parse(fxsd)\n",
    "            xmlschema = etree.XMLSchema(xmlschema_doc)\n",
    "            fxml = open(nombre_xml,'r')\n",
    "            arbol = etree.parse(fxml)\n",
    "            if xmlschema.validate(arbol):\n",
    "                print('fichero validado correctamente')\n",
    "            else:\n",
    "                print('error al validar el fichero')\n",
    "            flag = True   "
   ]
  },
  {
   "cell_type": "markdown",
   "metadata": {},
   "source": [
    "## transforma el xml de biblioteca y de playlists con xsl"
   ]
  },
  {
   "cell_type": "code",
   "execution_count": 16,
   "metadata": {},
   "outputs": [],
   "source": [
    "def transformar():\n",
    "    print(\"Generando xslt's...\")\n",
    "    dom = etree.parse('biblioteca.xml')\n",
    "    xslt = etree.parse(\"bib_canciones_albumes.xsl\")\n",
    "    transform = etree.XSLT(xslt)\n",
    "    newdom = transform(dom)\n",
    "    f = open(\"fichero_canciones_albumes.html\",\"wb\")\n",
    "    f.write(etree.tostring(newdom, pretty_print=True, encoding='UTF-8'))\n",
    "    f.close()\n",
    "    \n",
    "    dom = etree.parse('playlists.xml')\n",
    "    xslt = etree.parse(\"biblio_playlist_merge.xsl\")\n",
    "    transform = etree.XSLT(xslt)\n",
    "    newdom = transform(dom)\n",
    "    f = open(\"fichero_playlists.html\",\"wb\")\n",
    "    f.write(etree.tostring(newdom, pretty_print=True, encoding='UTF-8'))\n",
    "    f.close()\n",
    "    "
   ]
  },
  {
   "cell_type": "markdown",
   "metadata": {},
   "source": [
    "## permite modificar datos de fichero biblioteca"
   ]
  },
  {
   "cell_type": "code",
   "execution_count": 17,
   "metadata": {},
   "outputs": [],
   "source": [
    "def actualizar():\n",
    "    opcion = -1\n",
    "    while opcion > 2 or opcion < 1:\n",
    "        print('1) modificar nombre de un artista')\n",
    "        print('2) modificar titulo de una cancion')\n",
    "        opcion = int(input('seleccione una opcion[1-2]:'))\n",
    "    switch_actualizar = {\n",
    "        1: modificar_nombre_artista,\n",
    "        2: modificar_titulo_cancion\n",
    "    }\n",
    "        \n",
    "    funcion = switch_actualizar.get(opcion)\n",
    "    funcion()"
   ]
  },
  {
   "cell_type": "markdown",
   "metadata": {},
   "source": [
    "## cambia el nombre de un artista en el xml de biblioteca"
   ]
  },
  {
   "cell_type": "code",
   "execution_count": 18,
   "metadata": {},
   "outputs": [],
   "source": [
    "def modificar_nombre_artista():\n",
    "    arbol = etree.parse('biblioteca.xml')\n",
    "    nombre = input(\"introduzca el nombre del artista a modificar:\")\n",
    "    n = arbol.find(\".//artista[nombre='\" + nombre + \"']/nombre\")\n",
    "    if n is None:\n",
    "        print(\"El artista no existe en los registros\")\n",
    "    else:\n",
    "        nombre = input(\"introduzca el nuevo nombre:\")\n",
    "        n.text = nombre\n",
    "        fm = open(\"biblio_modificado.xml\",\"wb\")\n",
    "        fm.write(\"<?xml version=\\\"1.0\\\" encoding=\\\"UTF-8\\\"?>\\n\".encode(\"UTF-8\"))\n",
    "        fm.write(etree.tostring(arbol, pretty_print=True, encoding='UTF-8'))\n",
    "        fm.close()\n",
    "        "
   ]
  },
  {
   "cell_type": "markdown",
   "metadata": {},
   "source": [
    "## cambia el nombre de una canción en el xml de biblioteca"
   ]
  },
  {
   "cell_type": "code",
   "execution_count": 19,
   "metadata": {},
   "outputs": [],
   "source": [
    "def modificar_titulo_cancion():\n",
    "    arbol = etree.parse('biblioteca.xml')\n",
    "    nombre = input(\"introduzca el nombre de la cancion a modificar:\")\n",
    "    n = arbol.find(\".//cancion[titulo='\" + nombre + \"']/titulo\")\n",
    "    if n is None:\n",
    "        print(\"la canción no existe en los registros\")\n",
    "    else:\n",
    "        nombre = input(\"introduzca el nuevo nombre:\")\n",
    "        n.text = nombre\n",
    "        fm = open(\"biblio_modificado.xml\",\"wb\")\n",
    "        fm.write(\"<?xml version=\\\"1.0\\\" encoding=\\\"UTF-8\\\"?>\\n\".encode(\"UTF-8\"))\n",
    "        fm.write(etree.tostring(arbol, pretty_print=True, encoding='UTF-8'))\n",
    "        fm.close()\n",
    "    "
   ]
  },
  {
   "cell_type": "markdown",
   "metadata": {},
   "source": [
    "## permite añadir o borrar artistas y canciones del xml de biblioteca"
   ]
  },
  {
   "cell_type": "code",
   "execution_count": 20,
   "metadata": {},
   "outputs": [],
   "source": [
    "def aniadir_borrar_elem_xml():\n",
    "    opcion = -1\n",
    "    while opcion > 4 or opcion < 1:\n",
    "        print('1) añadir artista')\n",
    "        print('2) añadir cancion a album')\n",
    "        print('3) borrar artista')\n",
    "        print('4) borrar cancion')\n",
    "        opcion = int(input('seleccione una opcion[1-4]:'))\n",
    "    switch_aniadir_borrar = {\n",
    "        1: aniadir_artista,\n",
    "        2: aniadir_cancion_playlist,\n",
    "        3: borrar_artista,\n",
    "        4: borrar_cancion_playlist\n",
    "    }\n",
    "        \n",
    "    funcion = switch_aniadir_borrar.get(opcion)\n",
    "    funcion()\n",
    "    "
   ]
  },
  {
   "cell_type": "markdown",
   "metadata": {},
   "source": [
    "## añade un artista a la biblioteca de biblioteca.xml"
   ]
  },
  {
   "cell_type": "code",
   "execution_count": 21,
   "metadata": {},
   "outputs": [],
   "source": [
    "def aniadir_artista():\n",
    "    ide = input(\"introduzca un id para el artista: \")\n",
    "    nombre = input(\"introduzca un nombre de artista: \")\n",
    "    arbol = etree.parse('biblioteca.xml')\n",
    "    n = arbol.find(\".//artistas\")\n",
    "    elemento = etree.SubElement(n,'artista',{\"id\":ide})\n",
    "    nodo = etree.SubElement(elemento,'nombre')\n",
    "    nodo.text =  nombre\n",
    "    fap = open('biblio_aniadir.xml',\"wb\")\n",
    "    fap.write(\"<?xml version=\\\"1.0\\\" encoding=\\\"UTF-8\\\"?>\\n\".encode(\"UTF-8\"))\n",
    "    fap.write(etree.tostring(arbol, pretty_print=True, encoding='UTF-8'))\n",
    "    fap.close()\n",
    "    "
   ]
  },
  {
   "cell_type": "markdown",
   "metadata": {},
   "source": [
    "## añade una canción a la playlist dada de playlists.xml"
   ]
  },
  {
   "cell_type": "code",
   "execution_count": 22,
   "metadata": {},
   "outputs": [],
   "source": [
    "def aniadir_cancion_playlist():\n",
    "    n_playlist = input(\"introduzca el playlist en el que meter la cancion: \")\n",
    "    ide = input(\"introduzca el id de la cancion a introducir: \")\n",
    "    arbol = etree.parse('playlists.xml')\n",
    "    n = arbol.find(\".//playlist[@nombre = '\" + n_playlist + \"']\")\n",
    "    if n is None:\n",
    "        print(\"no hay ninguna playlist con ese nombre\")\n",
    "    else:\n",
    "        etree.SubElement(n,'cancion',{\"id\":ide})\n",
    "\n",
    "        fap = open('playlist_aniadir.xml',\"wb\")\n",
    "        fap.write(\"<?xml version=\\\"1.0\\\" encoding=\\\"UTF-8\\\"?>\\n\".encode(\"UTF-8\"))\n",
    "        fap.write(etree.tostring(arbol, pretty_print=True, encoding='UTF-8'))\n",
    "        fap.close()\n",
    "    "
   ]
  },
  {
   "cell_type": "markdown",
   "metadata": {},
   "source": [
    "## borrar un artista de la biblioteca de biblioteca.xml"
   ]
  },
  {
   "cell_type": "code",
   "execution_count": 23,
   "metadata": {},
   "outputs": [],
   "source": [
    "def borrar_artista():\n",
    "    nombre = input(\"introduzca el nombre del artista: \")\n",
    "    arbol = etree.parse('biblioteca.xml')\n",
    "    n = arbol.find(\".//artista[nombre = '\" + nombre + \"']\")\n",
    "    if n is None:\n",
    "        print(\"no hay ninguna artista con ese nombre\")\n",
    "    else:\n",
    "        arbol.find(\".//artistas\").remove(n)\n",
    "\n",
    "        fap = open('biblio_borrar.xml',\"wb\")\n",
    "        fap.write(\"<?xml version=\\\"1.0\\\" encoding=\\\"UTF-8\\\"?>\\n\".encode(\"UTF-8\"))\n",
    "        fap.write(etree.tostring(arbol, pretty_print=True, encoding='UTF-8'))\n",
    "        fap.close()\n",
    "    "
   ]
  },
  {
   "cell_type": "markdown",
   "metadata": {},
   "source": [
    "## borrar una cancion de la playlist dada en playlist.xml"
   ]
  },
  {
   "cell_type": "code",
   "execution_count": 24,
   "metadata": {},
   "outputs": [],
   "source": [
    "def borrar_cancion_playlist():\n",
    "    n_playlist = input(\"introduzca el playlist del que borrar la cancion: \")\n",
    "    ide = input(\"introduzca el id de la cancion a borrar: \")\n",
    "    arbol = etree.parse('playlists.xml')\n",
    "    n = arbol.find(\".//playlist[@nombre = '\" + n_playlist + \"']\")\n",
    "    if n is None:\n",
    "        print(\"no hay ninguna playlist con ese nombre\")\n",
    "    else:\n",
    "        sub = n.find(\".//cancion[@id= '\" + ide + \"']\")\n",
    "        if sub is None:\n",
    "            print(\"la cancion no existe o no está en esta playlist\")\n",
    "        else:\n",
    "            n.remove(sub)\n",
    "            fap = open('playlist_borrar.xml',\"wb\")\n",
    "            fap.write(\"<?xml version=\\\"1.0\\\" encoding=\\\"UTF-8\\\"?>\\n\".encode(\"UTF-8\"))\n",
    "            fap.write(etree.tostring(arbol, pretty_print=True, encoding='UTF-8'))\n",
    "            fap.close()"
   ]
  },
  {
   "cell_type": "code",
   "execution_count": 25,
   "metadata": {},
   "outputs": [],
   "source": [
    "def salir():\n",
    "    print(\"Hasta la proxima\")"
   ]
  },
  {
   "cell_type": "markdown",
   "metadata": {},
   "source": [
    "## Llamamos al programa principal para su ejecución"
   ]
  },
  {
   "cell_type": "code",
   "execution_count": 26,
   "metadata": {},
   "outputs": [
    {
     "name": "stdout",
     "output_type": "stream",
     "text": [
      "\n",
      "Bienvenido al proyecto de Python de Diego\n",
      "Elija una de las siguientes opciones:\n",
      "1) Listar información\n",
      "2) Contar información\n",
      "3) Buscar o filtrar información\n",
      "4) Buscar información relacionada\n",
      "5) Comprobar la validez del fichero XML\n",
      "6) Hacer una transformación con XSLT\n",
      "7) Actualizar el contenido de algún elemento o atributo del fichero XML\n",
      "8) Añadir un elemento nuevo al fichero XML\n",
      "9) Salir\n",
      "introduzca una opción  [1-9]: 1\n",
      "\n",
      "Elija la info a visualizar:\n",
      "1) Biblioteca\n",
      "2) Playlists\n",
      "seleccione una opcion [1-2]: 1\n",
      "\n",
      "BIBLIOTECA\n",
      "----------\n",
      "\talbumes:\n",
      "\t--------\n",
      "\t\t@id:alb01c01\n",
      "\t\t@duracion:2:29\n",
      "\t\t@valoracion:5\n",
      "\t\ttitulo:Malamente\n",
      "\t\treproducciones:{'@última': '15-02-2019', '@numero': '4'}\n",
      "\t\tgénero:['Flamenco', 'Pop español', 'Urbano']\n",
      "\t\t---------------------------------------\n",
      "\n",
      "\t\t@id:alb01c02\n",
      "\t\t@duracion:4:29\n",
      "\t\t@valoracion:3\n",
      "\t\ttitulo:Que no salga la luna\n",
      "\t\treproducciones:{'@última': '30-12-2018', '@numero': '1'}\n",
      "\t\t---------------------------------------\n",
      "\n",
      "\t\t@id:alb01c03\n",
      "\t\t@duracion:3:13\n",
      "\t\t@valoracion:5\n",
      "\t\ttitulo:Pienso en tu mirá\n",
      "\t\treproducciones:{'@última': '15-02-2019', '@numero': '10'}\n",
      "\t\t---------------------------------------\n",
      "\n",
      "\t\t@id:alb01c04\n",
      "\t\t@duracion:2:24\n",
      "\t\ttitulo:De aquí no sales\n",
      "\t\t---------------------------------------\n",
      "\n",
      "\t\t@id:alb01c05\n",
      "\t\t@duracion:3:28\n",
      "\t\ttitulo:reniego\n",
      "\t\t---------------------------------------\n",
      "\n",
      "\t\t@id:alb01c06\n",
      "\t\t@duracion:0:40\n",
      "\t\ttitulo:Preso\n",
      "\t\t---------------------------------------\n",
      "\n",
      "\t\t@id:alb01c07\n",
      "\t\t@duracion:3:02\n",
      "\t\ttitulo:Bagdad\n",
      "\t\t---------------------------------------\n",
      "\n",
      "\t\t@id:alb01c08\n",
      "\t\t@duracion:2:42\n",
      "\t\ttitulo:Dí mi nombre\n",
      "\t\t---------------------------------------\n",
      "\n",
      "\t\t@id:alb01c09\n",
      "\t\t@duracion:3:17\n",
      "\t\ttitulo:Nana\n",
      "\t\t---------------------------------------\n",
      "\n",
      "\t\t@id:alb01c10\n",
      "\t\t@duracion:2:55\n",
      "\t\ttitulo:Maldición\n",
      "\t\t---------------------------------------\n",
      "\n",
      "\t\t@id:alb01c11\n",
      "\t\t@duracion:1:34\n",
      "\t\ttitulo:A ningún hombre\n",
      "\t\t---------------------------------------\n",
      "\n",
      "\t\t@id:alb02c01\n",
      "\t\t@duracion:3:45\n",
      "\t\t@valoracion:5\n",
      "\t\ttitulo:Men señará\n",
      "\t\treproducciones:{'@última': '15-02-2010', '@numero': '20'}\n",
      "\t\tgénero:Pop rock\n",
      "\t\t---------------------------------------\n",
      "\n",
      "\t\t@id:alb02c02\n",
      "\t\t@duracion:3:36\n",
      "\t\t@valoracion:5\n",
      "\t\ttitulo:Ella\n",
      "\t\treproducciones:{'@última': '15-02-2010', '@numero': '15'}\n",
      "\t\t---------------------------------------\n",
      "\n",
      "\t\t@id:alb02c03\n",
      "\t\t@duracion:2:56\n",
      "\t\t@valoracion:3\n",
      "\t\ttitulo:Con mis manos\n",
      "\t\treproducciones:{'@última': '15-02-2010', '@numero': '5'}\n",
      "\t\t---------------------------------------\n",
      "\n",
      "\t\t@id:alb02c04\n",
      "\t\t@duracion:3:49\n",
      "\t\ttitulo:Siempre me quedará\n",
      "\t\t---------------------------------------\n",
      "\n",
      "\t\t@id:alb02c05\n",
      "\t\t@duracion:3:36\n",
      "\t\t@valoracion:5\n",
      "\t\ttitulo:Malo\n",
      "\t\treproducciones:{'@última': '15-02-2010', '@numero': '30'}\n",
      "\t\t---------------------------------------\n",
      "\n",
      "\t\t@id:alb02c06\n",
      "\t\t@duracion:3:42\n",
      "\t\ttitulo:Ska de la tierra\n",
      "\t\tgénero:Ska\n",
      "\t\t---------------------------------------\n",
      "\n",
      "\t\t@id:alb02c07\n",
      "\t\t@duracion:3:54\n",
      "\t\ttitulo:El golpe\n",
      "\t\t---------------------------------------\n",
      "\n",
      "\t\t@id:alb02c08\n",
      "\t\t@duracion:3:45\n",
      "\t\ttitulo:Revolvió\n",
      "\t\t---------------------------------------\n",
      "\n",
      "\t\t@id:alb02c09\n",
      "\t\t@duracion:3:55\n",
      "\t\ttitulo:Como los olivos\n",
      "\t\t---------------------------------------\n",
      "\n",
      "\t\t@id:alb02c10\n",
      "\t\t@duracion:3:50\n",
      "\t\ttitulo:Cuidándote\n",
      "\t\t---------------------------------------\n",
      "\n",
      "\t\t@id:alb02c11\n",
      "\t\t@duracion:3:25\n",
      "\t\ttitulo:Siete horas\n",
      "\t\t---------------------------------------\n",
      "\n",
      "\t\t@id:alb02c12\n",
      "\t\t@duracion:3:49\n",
      "\t\ttitulo:Tu silencio\n",
      "\t\t---------------------------------------\n",
      "\n",
      "\t\t@id:alb02c13\n",
      "\t\t@duracion:2:52\n",
      "\t\ttitulo:Razones\n",
      "\t\t---------------------------------------\n",
      "\n",
      "\t\t@id:alb03c01\n",
      "\t\t@duracion:4:03\n",
      "\t\t@valoracion:5\n",
      "\t\ttitulo:Lento\n",
      "\t\treproducciones:{'@última': '15-02-2007', '@numero': '15'}\n",
      "\t\tgénero:Pop rock\n",
      "\t\t---------------------------------------\n",
      "\n",
      "\t\t@id:alb03c02\n",
      "\t\t@duracion:3:17\n",
      "\t\t@valoracion:5\n",
      "\t\ttitulo:Andar conmigo\n",
      "\t\treproducciones:{'@última': '15-02-2007', '@numero': '15'}\n",
      "\t\tgénero:Pop latino\n",
      "\t\t---------------------------------------\n",
      "\n",
      "\t\t@id:alb03c03\n",
      "\t\t@duracion:4:04\n",
      "\t\t@valoracion:4\n",
      "\t\ttitulo:Algo está cambiando\n",
      "\t\treproducciones:{'@última': '15-02-2007', '@numero': '5'}\n",
      "\t\t---------------------------------------\n",
      "\n",
      "\t\t@id:alb03c04\n",
      "\t\t@duracion:3:20\n",
      "\t\ttitulo:A tu lado\n",
      "\t\t---------------------------------------\n",
      "\n",
      "\t\t@id:alb03c05\n",
      "\t\t@duracion:3:20\n",
      "\t\t@valoracion:5\n",
      "\t\ttitulo:Lo que pidas\n",
      "\t\treproducciones:{'@última': '15-02-2007', '@numero': '20'}\n",
      "\t\t---------------------------------------\n",
      "\n",
      "\t\t@id:alb03c10\n",
      "\t\t@duracion:3:13\n",
      "\t\t@valoracion:5\n",
      "\t\ttitulo:Oleada\n",
      "\t\treproducciones:{'@última': '15-02-2007', '@numero': '30'}\n",
      "\t\t---------------------------------------\n",
      "\n",
      "\tartistas:\n",
      "\t--------\n",
      "\t\t{'@id': 'art01', 'nombre': 'Rosalía'}\n",
      "\t\t{'@id': 'art02', 'nombre': 'Bebe'}\n",
      "\t\t{'@id': 'art03', 'nombre': 'Julieta Venegas'}\n",
      "\n",
      "Bienvenido al proyecto de Python de Diego\n",
      "Elija una de las siguientes opciones:\n",
      "1) Listar información\n",
      "2) Contar información\n",
      "3) Buscar o filtrar información\n",
      "4) Buscar información relacionada\n",
      "5) Comprobar la validez del fichero XML\n",
      "6) Hacer una transformación con XSLT\n",
      "7) Actualizar el contenido de algún elemento o atributo del fichero XML\n",
      "8) Añadir un elemento nuevo al fichero XML\n",
      "9) Salir\n",
      "introduzca una opción  [1-9]: 4\n",
      "\n",
      "BUSCAR INFO RELACIONADA\n",
      "-------\n",
      "1) buscar albumes de un artista\n",
      "2) buscar canciones de un album\n",
      "3) buscar playlists que contengan una cancion\n",
      "seleccione una opcion[1-3]:1\n",
      "introduzca un nombre: (nombre exacto)Rosalía\n",
      "\n",
      "Resultados:\n",
      "\n",
      "El mal querer\n",
      "\n",
      "Bienvenido al proyecto de Python de Diego\n",
      "Elija una de las siguientes opciones:\n",
      "1) Listar información\n",
      "2) Contar información\n",
      "3) Buscar o filtrar información\n",
      "4) Buscar información relacionada\n",
      "5) Comprobar la validez del fichero XML\n",
      "6) Hacer una transformación con XSLT\n",
      "7) Actualizar el contenido de algún elemento o atributo del fichero XML\n",
      "8) Añadir un elemento nuevo al fichero XML\n",
      "9) Salir\n",
      "introduzca una opción  [1-9]: 9\n",
      "Hasta la proxima\n"
     ]
    }
   ],
   "source": [
    "main()"
   ]
  },
  {
   "cell_type": "code",
   "execution_count": null,
   "metadata": {},
   "outputs": [],
   "source": []
  }
 ],
 "metadata": {
  "kernelspec": {
   "display_name": "Python 3",
   "language": "python",
   "name": "python3"
  },
  "language_info": {
   "codemirror_mode": {
    "name": "ipython",
    "version": 3
   },
   "file_extension": ".py",
   "mimetype": "text/x-python",
   "name": "python",
   "nbconvert_exporter": "python",
   "pygments_lexer": "ipython3",
   "version": "3.7.0"
  }
 },
 "nbformat": 4,
 "nbformat_minor": 2
}
